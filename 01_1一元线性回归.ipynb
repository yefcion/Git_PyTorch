{
 "cells": [
  {
   "cell_type": "markdown",
   "metadata": {},
   "source": [
    "# 一元线性回归（使用 nn模型）"
   ]
  },
  {
   "cell_type": "code",
   "execution_count": 1,
   "metadata": {
    "collapsed": true
   },
   "outputs": [],
   "source": [
    "import torch as t\n",
    "import numpy as np\n",
    "from torch.autograd import Variable\n",
    "import matplotlib.pyplot as plt\n",
    "import torch.nn as nn"
   ]
  },
  {
   "cell_type": "code",
   "execution_count": 2,
   "metadata": {
    "collapsed": true
   },
   "outputs": [],
   "source": [
    "#准备训练集\n",
    "x_train = np.array([[3.3],[4.4],[5.5],[6.71],[6.93],[4.168],\n",
    "                  [9.779],[6.182],[7.59],[2.167],[7.042],\n",
    "                  [10.791],[5.313],[7.997],[3.1]],dtype=np.float32)\n",
    "y_train = np.array([[1.7],[2.76],[2.09],[3.19],[1.694],[1.573],\n",
    "                   [3.366],[2.596],[2.53],[1.221],[2.827],\n",
    "                   [3.465],[1.65],[2.904],[1.3]],dtype=np.float32)"
   ]
  },
  {
   "cell_type": "code",
   "execution_count": 3,
   "metadata": {
    "collapsed": true
   },
   "outputs": [],
   "source": [
    "# 将numpy.array 转换成 Tensor\n",
    "x_train = t.from_numpy(x_train)\n",
    "y_train = t.from_numpy(y_train)"
   ]
  },
  {
   "cell_type": "code",
   "execution_count": 4,
   "metadata": {
    "collapsed": true
   },
   "outputs": [],
   "source": [
    "# 建立模型：线性模型 y = w*x + b\n",
    "\n",
    "class LinearRegression(nn.Module):\n",
    "    def __init__(self):\n",
    "        super(LinearRegression, self).__init__()\n",
    "        self.linear = nn.Linear(1, 1)# input and output are both 1 dimension\n",
    "        \n",
    "    def forward(self, x):#上面定义方法，这步实现操纵\n",
    "        out = self.linear(x)\n",
    "        return out"
   ]
  },
  {
   "cell_type": "code",
   "execution_count": 5,
   "metadata": {
    "collapsed": true
   },
   "outputs": [],
   "source": [
    "if t.cuda.is_available():#由于下面会出现cuda()报错，所以这里禁用，即不适用GPU加速\n",
    "#    model = LinearRegression().cuda()\n",
    "#else:\n",
    "    model = LinearRegression()"
   ]
  },
  {
   "cell_type": "code",
   "execution_count": 6,
   "metadata": {
    "collapsed": true
   },
   "outputs": [],
   "source": [
    "criterion = nn.MSELoss()# 定义损失函数\n",
    "optimizer = t.optim.SGD(model.parameters(),lr=1e-3)# 定义优化函数"
   ]
  },
  {
   "cell_type": "code",
   "execution_count": 7,
   "metadata": {},
   "outputs": [
    {
     "name": "stdout",
     "output_type": "stream",
     "text": [
      "Epoch[20/1000], loss:0.188877\n",
      "Epoch[40/1000], loss:0.169517\n",
      "Epoch[60/1000], loss:0.168995\n",
      "Epoch[80/1000], loss:0.168980\n",
      "Epoch[100/1000], loss:0.168979\n",
      "Epoch[120/1000], loss:0.168978\n",
      "Epoch[140/1000], loss:0.168978\n",
      "Epoch[160/1000], loss:0.168977\n",
      "Epoch[180/1000], loss:0.168977\n",
      "Epoch[200/1000], loss:0.168976\n",
      "Epoch[220/1000], loss:0.168975\n",
      "Epoch[240/1000], loss:0.168975\n",
      "Epoch[260/1000], loss:0.168974\n",
      "Epoch[280/1000], loss:0.168974\n",
      "Epoch[300/1000], loss:0.168973\n",
      "Epoch[320/1000], loss:0.168972\n",
      "Epoch[340/1000], loss:0.168972\n",
      "Epoch[360/1000], loss:0.168971\n",
      "Epoch[380/1000], loss:0.168971\n",
      "Epoch[400/1000], loss:0.168970\n",
      "Epoch[420/1000], loss:0.168969\n",
      "Epoch[440/1000], loss:0.168969\n",
      "Epoch[460/1000], loss:0.168968\n",
      "Epoch[480/1000], loss:0.168968\n",
      "Epoch[500/1000], loss:0.168967\n",
      "Epoch[520/1000], loss:0.168967\n",
      "Epoch[540/1000], loss:0.168966\n",
      "Epoch[560/1000], loss:0.168966\n",
      "Epoch[580/1000], loss:0.168965\n",
      "Epoch[600/1000], loss:0.168965\n",
      "Epoch[620/1000], loss:0.168964\n",
      "Epoch[640/1000], loss:0.168964\n",
      "Epoch[660/1000], loss:0.168963\n",
      "Epoch[680/1000], loss:0.168963\n",
      "Epoch[700/1000], loss:0.168962\n",
      "Epoch[720/1000], loss:0.168962\n",
      "Epoch[740/1000], loss:0.168961\n",
      "Epoch[760/1000], loss:0.168961\n",
      "Epoch[780/1000], loss:0.168960\n",
      "Epoch[800/1000], loss:0.168960\n",
      "Epoch[820/1000], loss:0.168959\n",
      "Epoch[840/1000], loss:0.168959\n",
      "Epoch[860/1000], loss:0.168958\n",
      "Epoch[880/1000], loss:0.168958\n",
      "Epoch[900/1000], loss:0.168958\n",
      "Epoch[920/1000], loss:0.168957\n",
      "Epoch[940/1000], loss:0.168957\n",
      "Epoch[960/1000], loss:0.168956\n",
      "Epoch[980/1000], loss:0.168956\n",
      "Epoch[1000/1000], loss:0.168956\n"
     ]
    }
   ],
   "source": [
    "# 开始训练\n",
    "num_epochs = 1000\n",
    "for epoch in range(num_epochs):\n",
    "    if t.cuda.is_available():\n",
    "    #    inputs = Variable(x_train).cuda()\n",
    "    #    target = Variable(y_train).cuda()\n",
    "    #else:\n",
    "        inputs = Variable(x_train)\n",
    "        target = Variable(y_train)\n",
    "    \n",
    "    # forward\n",
    "    out = model(inputs)\n",
    "    loss = criterion(out,target)\n",
    "    # backward\n",
    "    optimizer.zero_grad()\n",
    "    loss.backward()\n",
    "    optimizer.step()\n",
    "    \n",
    "    #按一定间隔显示计算数值\n",
    "    if (epoch+1) % 20 == 0:\n",
    "        print('Epoch[{}/{}], loss:{:.6f}'.format(epoch+1,num_epochs,loss.item()))"
   ]
  },
  {
   "cell_type": "code",
   "execution_count": 8,
   "metadata": {},
   "outputs": [
    {
     "data": {
      "image/png": "[encoded data removed]",
      "text/plain": [
       "<matplotlib.figure.Figure at 0x1ed97330198>"
      ]
     },
     "metadata": {},
     "output_type": "display_data"
    }
   ],
   "source": [
    "# 预测一下结果\n",
    "model.eval()\n",
    "predict = model(Variable(x_train))\n",
    "predict = predict.data.numpy()\n",
    "plt.plot(x_train.numpy(), y_train.numpy(), 'ro', label='Original data')\n",
    "plt.plot(x_train.numpy(), predict, label='Fitting Line')\n",
    "plt.xlabel('X_train')# X的轴标\n",
    "plt.ylabel('Y_train')# Y的轴标\n",
    "plt.legend()# 显示图例 link \n",
    "plt.show()"
   ]
  },
  {
   "cell_type": "markdown",
   "metadata": {
    "collapsed": true
   },
   "source": [
    "# 手动实现一元线性回归（不使用 nn模型）"
   ]
  },
  {
   "cell_type": "code",
   "execution_count": 9,
   "metadata": {
    "collapsed": true
   },
   "outputs": [],
   "source": [
    "import torch as t\n",
    "import numpy as np\n",
    "import matplotlib.pyplot as plt\n",
    "from torch.autograd import Variable"
   ]
  },
  {
   "cell_type": "code",
   "execution_count": 10,
   "metadata": {},
   "outputs": [],
   "source": [
    "#准备训练集\n",
    "x_train = np.array([[3.3],[4.4],[5.5],[6.71],[6.93],[4.168],\n",
    "                  [9.779],[6.182],[7.59],[2.167],[7.042],\n",
    "                  [10.791],[5.313],[7.997],[3.1]],dtype=np.float32)\n",
    "y_train = np.array([[1.7],[2.76],[2.09],[3.19],[1.694],[1.573],\n",
    "                   [3.366],[2.596],[2.53],[1.221],[2.827],\n",
    "                   [3.465],[1.65],[2.904],[1.3]],dtype=np.float32)\n",
    "# 转为 Tensor\n",
    "x_train = t.from_numpy(x_train)\n",
    "y_train = t.from_numpy(y_train)\n",
    "# 转为 Variable\n",
    "x_train = Variable(x_train)\n",
    "y_train = Variable(y_train)"
   ]
  },
  {
   "cell_type": "code",
   "execution_count": 11,
   "metadata": {},
   "outputs": [],
   "source": [
    "# 定义 变量 w 和 b\n",
    "w = Variable(t.randn(1), requires_grad = True)\n",
    "b = Variable(t.zeros(1), requires_grad = True)\n",
    "# print(w,'\\n',b)"
   ]
  },
  {
   "cell_type": "code",
   "execution_count": 12,
   "metadata": {
    "collapsed": true
   },
   "outputs": [],
   "source": [
    "# 创建 一元回归模型\n",
    "def linear_model(x):\n",
    "    return x * w + b"
   ]
  },
  {
   "cell_type": "code",
   "execution_count": 15,
   "metadata": {},
   "outputs": [
    {
     "data": {
      "text/plain": [
       "tensor([-14.0845])"
      ]
     },
     "execution_count": 15,
     "metadata": {},
     "output_type": "execute_result"
    }
   ],
   "source": [
    "# 定义误差函数\n",
    "def get_loss(y_, y):\n",
    "    return t.mean((y_ - y)**2)\n",
    "\n",
    "loss.backward()\n",
    "w.grad\n",
    "b.grad"
   ]
  },
  {
   "cell_type": "code",
   "execution_count": 16,
   "metadata": {},
   "outputs": [
    {
     "name": "stdout",
     "output_type": "stream",
     "text": [
      "epoch: 0 , loss: 55.737789154052734\n",
      "epoch: 1 , loss: 1.2413136959075928\n",
      "epoch: 2 , loss: 0.23253661394119263\n",
      "epoch: 3 , loss: 0.21364285051822662\n",
      "epoch: 4 , loss: 0.21306979656219482\n",
      "epoch: 5 , loss: 0.21283692121505737\n",
      "epoch: 6 , loss: 0.21261152625083923\n",
      "epoch: 7 , loss: 0.212387353181839\n",
      "epoch: 8 , loss: 0.21216437220573425\n",
      "epoch: 9 , loss: 0.21194249391555786\n",
      "epoch: 10 , loss: 0.2117217630147934\n",
      "epoch: 11 , loss: 0.21150217950344086\n",
      "epoch: 12 , loss: 0.21128371357917786\n",
      "epoch: 13 , loss: 0.21106639504432678\n",
      "epoch: 14 , loss: 0.21085016429424286\n",
      "epoch: 15 , loss: 0.21063505113124847\n",
      "epoch: 16 , loss: 0.21042098104953766\n",
      "epoch: 17 , loss: 0.21020810306072235\n",
      "epoch: 18 , loss: 0.20999625325202942\n",
      "epoch: 19 , loss: 0.2097855657339096\n"
     ]
    }
   ],
   "source": [
    "# 迭代中计算\n",
    "for epoch in range(20):\n",
    "    y_ = linear_model(x_train)\n",
    "    loss = get_loss(y_, y_train)\n",
    "    n = 1e-2# 学习率\n",
    "    # 计算梯度\n",
    "    w.grad.zero_()\n",
    "    b.grad.zero_()\n",
    "    loss.backward()\n",
    "    # 更新数据\n",
    "    w.data = w.data - n*w.grad.data\n",
    "    b.data = b.data - n*b.grad.data\n",
    "    \n",
    "    print(\"epoch: {} , loss: {}\".format(epoch, loss.item()))"
   ]
  },
  {
   "cell_type": "code",
   "execution_count": 17,
   "metadata": {},
   "outputs": [
    {
     "data": {
      "image/png": "[encoded data removed]",
      "text/plain": [
       "<matplotlib.figure.Figure at 0x1ed979b2f98>"
      ]
     },
     "metadata": {},
     "output_type": "display_data"
    }
   ],
   "source": [
    "plt.plot(x_train.data.numpy(),y_train.data.numpy(),'bo',label='original')\n",
    "plt.plot(x_train.data.numpy(),y_.data.numpy(),'ro',label='predict')\n",
    "plt.legend()\n",
    "plt.show()"
   ]
  },
  {
   "cell_type": "code",
   "execution_count": null,
   "metadata": {
    "collapsed": true
   },
   "outputs": [],
   "source": []
  }
 ],
 "metadata": {
  "kernelspec": {
   "display_name": "Python 3",
   "language": "python",
   "name": "python3"
  },
  "language_info": {
   "codemirror_mode": {
    "name": "ipython",
    "version": 3
   },
   "file_extension": ".py",
   "mimetype": "text/x-python",
   "name": "python",
   "nbconvert_exporter": "python",
   "pygments_lexer": "ipython3",
   "version": "3.6.3"
  }
 },
 "nbformat": 4,
 "nbformat_minor": 2
}
