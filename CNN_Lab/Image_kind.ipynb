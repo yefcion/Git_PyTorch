{
 "cells": [
  {
   "cell_type": "markdown",
   "metadata": {},
   "source": [
    "# 卷积神经网络\n",
    "\n",
    "输入、输出\n",
    "卷积：不是对一个像素进行处理，而是对图片上的一小块区域进行\n",
    "\n",
    "图片1（`长*宽*高(r+g+b)`）经过一次`卷积`得到新的图片，\n",
    "图片2（`长/2 * 宽/2 * 高(r+g+b+一个新的特征)`）它的长宽信息减少，但在图片的深度上会增加，增加新的信息维度（例如边缘等）\n",
    "\n",
    "在卷积的过程中可能会丢失一些信息，此时我们采用池化（Pooling）尽量不压缩长宽\n",
    "\n",
    "常见结构（从下到上）：\n",
    "   - image 图片\n",
    "   - convolution 卷积\n",
    "   - max pooling 池化\n",
    "   - fully connected 全连接\n",
    "   - fully connected 全连接\n",
    "   - classifier 分类器"
   ]
  },
  {
   "cell_type": "code",
   "execution_count": 1,
   "metadata": {
    "collapsed": true
   },
   "outputs": [],
   "source": [
    "# 猫狗图片分类"
   ]
  },
  {
   "cell_type": "markdown",
   "metadata": {},
   "source": [
    "# 1.数据加载"
   ]
  },
  {
   "cell_type": "code",
   "execution_count": 26,
   "metadata": {
    "collapsed": true
   },
   "outputs": [],
   "source": [
    "# coding:utf-8\n",
    "import os\n",
    "from PIL import Image\n",
    "from torch.utils import data\n",
    "import numpy as np\n",
    "from torchvision import transforms as T\n",
    "\n",
    "class DogCat(data.Dataset):\n",
    "    def __init__(self, root, transforms=None, train=True, test=False):\n",
    "        \"\"\"\n",
    "        目标：获取所有图片地址，并根据训练、验证、测试划分数据\n",
    "        \"\"\"\n",
    "        self.test = test\n",
    "        imgs = [os.path.join(root, img) for img in os.listdir(root)]# \n",
    "        \n",
    "        # test1: data/test1/8973.jpg\n",
    "        # train: data/train/cat.10004.jpg \n",
    "        if self.test:\n",
    "            imgs = sorted(imgs, key=lambda x: int(x.split('.')[-2].split('/')[-1]))\n",
    "        else:\n",
    "            imgs = sorted(imgs, key=lambda x: int(x.split('.')[-2]))\n",
    "            # lambda 部分目的是从文件名中筛出那些数字 10004\n",
    "            # sorted 则是按照数字顺序排序，并存储到新的列表\n",
    "        imgs_num = len(imgs)\n",
    "        \n",
    "        # 划分训练、验证集，验证:训练 = 3:7\n",
    "        if self.test:\n",
    "            self.imgs = imgs\n",
    "        elif train:\n",
    "            self.imgs = imgs[:int(0.7*imgs_num)]\n",
    "        else :\n",
    "            self.imgs = imgs[int(0.7*imgs_num):]\n",
    "        \n",
    "        \n",
    "        if transforms is None:\n",
    "            # 数据转换操作，测试验证和训练的数据转换有所区别\n",
    "            # 归一化 channel = (channel-mean)/std 不明白\n",
    "            normalize = T.Normalize(mean = [0.485, 0.456, 0.406], \n",
    "                                     std = [0.229, 0.224, 0.225])\n",
    "            # 测试集和验证集\n",
    "            if self.test or not train: \n",
    "                self.transforms = T.Compose([\n",
    "                    T.Scale(224),\n",
    "                    T.CenterCrop(224),\n",
    "                    T.ToTensor(),\n",
    "                    normalize\n",
    "                ]) \n",
    "            # 训练集\n",
    "            else :\n",
    "                self.transforms = T.Compose([\n",
    "                    T.Scale(256),\n",
    "                    T.RandomSizedCrop(224),\n",
    "                    T.RandomHorizontalFlip(),\n",
    "                    T.ToTensor(),\n",
    "                    normalize\n",
    "                ]) \n",
    "    \n",
    "    def __getitem__(self, index):\n",
    "        \"\"\"\n",
    "        返回一张图片的数据\n",
    "        对于测试集，没有label，返回图片id，如1000.jpg返回1000\n",
    "        \"\"\"\n",
    "        img_path = self.imgs[index]\n",
    "        if self.test: \n",
    "             label = int(self.imgs[index].split('.')[-2].split('/')[-1])\n",
    "        else: \n",
    "             label = 1 if 'dog' in img_path.split('/')[-1] else 0\n",
    "        data = Image.open(img_path)\n",
    "        data = self.transforms(data)\n",
    "        return data, label\n",
    "    \n",
    "    def __len__(self):\n",
    "        \"\"\"\n",
    "        返回数据集中所有图片的个数\n",
    "        \"\"\"\n",
    "        return len(self.imgs)"
   ]
  },
  {
   "cell_type": "code",
   "execution_count": null,
   "metadata": {
    "collapsed": true
   },
   "outputs": [],
   "source": [
    "train_dataset = DogCat(opt.train_data_root, train=True)\n",
    "trainloader = DataLoader(train_dataset,\n",
    "                        batch_size = opt.batch_size,\n",
    "                        shuffle = True,\n",
    "                        num_workers = opt.num_workers)\n",
    "                  \n",
    "for ii, (data, label) in enumerate(trainloader):\n",
    "    train()"
   ]
  },
  {
   "cell_type": "code",
   "execution_count": null,
   "metadata": {
    "collapsed": true
   },
   "outputs": [],
   "source": []
  },
  {
   "cell_type": "code",
   "execution_count": null,
   "metadata": {
    "collapsed": true
   },
   "outputs": [],
   "source": []
  },
  {
   "cell_type": "code",
   "execution_count": null,
   "metadata": {
    "collapsed": true
   },
   "outputs": [],
   "source": []
  },
  {
   "cell_type": "code",
   "execution_count": null,
   "metadata": {
    "collapsed": true
   },
   "outputs": [],
   "source": []
  },
  {
   "cell_type": "code",
   "execution_count": null,
   "metadata": {
    "collapsed": true
   },
   "outputs": [],
   "source": []
  },
  {
   "cell_type": "code",
   "execution_count": null,
   "metadata": {
    "collapsed": true
   },
   "outputs": [],
   "source": []
  },
  {
   "cell_type": "code",
   "execution_count": null,
   "metadata": {
    "collapsed": true
   },
   "outputs": [],
   "source": []
  },
  {
   "cell_type": "code",
   "execution_count": null,
   "metadata": {
    "collapsed": true
   },
   "outputs": [],
   "source": []
  },
  {
   "cell_type": "code",
   "execution_count": null,
   "metadata": {
    "collapsed": true
   },
   "outputs": [],
   "source": []
  },
  {
   "cell_type": "code",
   "execution_count": null,
   "metadata": {
    "collapsed": true
   },
   "outputs": [],
   "source": []
  },
  {
   "cell_type": "code",
   "execution_count": null,
   "metadata": {
    "collapsed": true
   },
   "outputs": [],
   "source": []
  },
  {
   "cell_type": "code",
   "execution_count": 17,
   "metadata": {},
   "outputs": [
    {
     "name": "stdout",
     "output_type": "stream",
     "text": [
      "['data/test1/8973.jpg', 'data/train/cat.10004.jpg']\n",
      "['data/train/cat', '10004', 'jpg']\n",
      "cat.10004.jpg\n",
      "10004\n",
      "10004\n"
     ]
    }
   ],
   "source": [
    "a = 'data/test1/8973.jpg'\n",
    "b = 'data/train/cat.10004.jpg'\n",
    "c = [a,b]\n",
    "print(c)\n",
    "\n",
    "f = b.split('.')\n",
    "fd = b.split('/')[-1]\n",
    "print(f)\n",
    "print(fd)\n",
    "\n",
    "e = int(b.split('.')[-2])\n",
    "print(e)\n",
    "\n",
    "d = int(b.split('.')[-2].split('/')[-1])\n",
    "print(d)"
   ]
  },
  {
   "cell_type": "code",
   "execution_count": null,
   "metadata": {
    "collapsed": true
   },
   "outputs": [],
   "source": [
    "if True:\n",
    "    imgs = sorted(c, key=lambda x: int(x.split('.')[-2].split('/')[-1]))\n",
    "    print(imgs)\n",
    "else:\n",
    "    imgs = sorted(c, key=lambda x: int(x.split('.')[-2]))\n",
    "    print(imgs)"
   ]
  },
  {
   "cell_type": "code",
   "execution_count": 21,
   "metadata": {},
   "outputs": [
    {
     "name": "stdout",
     "output_type": "stream",
     "text": [
      "['D:/0_PyData/Dog&Cat_Data\\\\sampleSubmission.csv', 'D:/0_PyData/Dog&Cat_Data\\\\test1', 'D:/0_PyData/Dog&Cat_Data\\\\test1.zip', 'D:/0_PyData/Dog&Cat_Data\\\\train', 'D:/0_PyData/Dog&Cat_Data\\\\train.zip']\n"
     ]
    }
   ],
   "source": [
    "import os\n",
    "root = 'D:/0_PyData/Dog&Cat_Data'\n",
    "imgs = [os.path.join(root, img) for img in os.listdir(root)]\n",
    "print(imgs)"
   ]
  },
  {
   "cell_type": "code",
   "execution_count": 24,
   "metadata": {
    "scrolled": true
   },
   "outputs": [
    {
     "name": "stdout",
     "output_type": "stream",
     "text": [
      "sampleSubmission.csv\n",
      "test1\n",
      "test1.zip\n",
      "train\n",
      "train.zip\n"
     ]
    }
   ],
   "source": [
    "import os\n",
    "root = 'D:/0_PyData/Dog&Cat_Data'\n",
    "for img in os.listdir(root):\n",
    "    print(img)\n"
   ]
  }
 ],
 "metadata": {
  "kernelspec": {
   "display_name": "Python 3",
   "language": "python",
   "name": "python3"
  },
  "language_info": {
   "codemirror_mode": {
    "name": "ipython",
    "version": 3
   },
   "file_extension": ".py",
   "mimetype": "text/x-python",
   "name": "python",
   "nbconvert_exporter": "python",
   "pygments_lexer": "ipython3",
   "version": "3.6.3"
  }
 },
 "nbformat": 4,
 "nbformat_minor": 2
}
